{
 "cells": [
  {
   "cell_type": "markdown",
   "metadata": {
    "colab_type": "text",
    "id": "P6xk2_jLsvFF"
   },
   "source": [
    "# [作業目標]\n",
    "\n",
    "1. 請比較對一個 100 x 100 * 100 的陣列，使用不同方法對每一個元素 +1 的時間比較。\n",
    "\n",
    "2. 如何從一個陣列中，找出出現頻率最高的數值與位置？\n",
    "\n",
    "3. 如何利用 list(...) 實現 a.tolist() 的效果？試著用程式實作。\n"
   ]
  },
  {
   "cell_type": "markdown",
   "metadata": {
    "colab_type": "text",
    "id": "uXGll28asvFS"
   },
   "source": [
    "# 作業 "
   ]
  },
  {
   "cell_type": "markdown",
   "metadata": {},
   "source": [
    "### 1. 請比較對一個 1000 x 100 x 100 的陣列，使用不同方法對每一個元素 +1 的時間比較。\n",
    "\n",
    "\n"
   ]
  },
  {
   "cell_type": "code",
   "execution_count": 4,
   "metadata": {},
   "outputs": [],
   "source": [
    "import numpy as np"
   ]
  },
  {
   "cell_type": "code",
   "execution_count": 5,
   "metadata": {
    "colab": {},
    "colab_type": "code",
    "id": "5QrYoyNWsvFS"
   },
   "outputs": [],
   "source": [
    "Z = np.random.randint(0, 10, 1000000).reshape(100, 100, 100)\n",
    "Z1 = Z\n",
    "Z2 = Z\n",
    "Z3 = Z\n",
    "Z4 = Z"
   ]
  },
  {
   "cell_type": "markdown",
   "metadata": {},
   "source": [
    "#### 測試是否成功對每一個元增加"
   ]
  },
  {
   "cell_type": "code",
   "execution_count": 6,
   "metadata": {},
   "outputs": [],
   "source": [
    "\n",
    "t = np.arange(6)\n",
    "for i in range(len(t)):\n",
    "    t[i] += 1"
   ]
  },
  {
   "cell_type": "code",
   "execution_count": 7,
   "metadata": {},
   "outputs": [
    {
     "data": {
      "text/plain": [
       "array([[[ 4,  5],\n",
       "        [ 6,  7]],\n",
       "\n",
       "       [[ 8,  9],\n",
       "        [10, 11]]])"
      ]
     },
     "execution_count": 7,
     "metadata": {},
     "output_type": "execute_result"
    }
   ],
   "source": [
    "t = np.arange(8).reshape(2, 2, 2)\n",
    "t = np.add(t, 1)\n",
    "for i in range(len(t)):\n",
    "    for j in range(len(t[i])):\n",
    "        for k in range(len(t[i][j])):\n",
    "            t[i][j][k] += 1\n",
    "            \n",
    "with np.nditer(t, op_flags=['readwrite']) as it:\n",
    "    for x in it:\n",
    "        x[...] += 1 \n",
    "\n",
    "for it in t:\n",
    "    it[...] +=1\n",
    "\n",
    "t"
   ]
  },
  {
   "cell_type": "markdown",
   "metadata": {},
   "source": [
    "#### 測試效率"
   ]
  },
  {
   "cell_type": "code",
   "execution_count": 8,
   "metadata": {},
   "outputs": [
    {
     "name": "stdout",
     "output_type": "stream",
     "text": [
      "15.5 ns ± 7.6 ns per loop (mean ± std. dev. of 7 runs, 10 loops each)\n"
     ]
    }
   ],
   "source": [
    "%timeit -n 10 a = 2\n",
    "\n",
    "for i in range(len(Z)):\n",
    "    for j in range(len(Z[i])):\n",
    "        for k in range(len(Z[i][j])):\n",
    "            Z[i][j][k] += 1"
   ]
  },
  {
   "cell_type": "code",
   "execution_count": 9,
   "metadata": {},
   "outputs": [
    {
     "name": "stdout",
     "output_type": "stream",
     "text": [
      "16.1 ns ± 5.63 ns per loop (mean ± std. dev. of 7 runs, 10 loops each)\n"
     ]
    }
   ],
   "source": [
    "%timeit -n 10 a = 2\n",
    "\n",
    "Z1 = np.add(Z1, 1)"
   ]
  },
  {
   "cell_type": "code",
   "execution_count": 10,
   "metadata": {},
   "outputs": [
    {
     "name": "stdout",
     "output_type": "stream",
     "text": [
      "18.5 ns ± 9.68 ns per loop (mean ± std. dev. of 7 runs, 10 loops each)\n"
     ]
    }
   ],
   "source": [
    "%timeit -n 10 a = 2\n",
    "            \n",
    "with np.nditer(Z2, op_flags=['readwrite']) as it:\n",
    "    for x in it:\n",
    "        x[...] += 1"
   ]
  },
  {
   "cell_type": "code",
   "execution_count": 11,
   "metadata": {},
   "outputs": [
    {
     "name": "stdout",
     "output_type": "stream",
     "text": [
      "13.7 ns ± 1.9 ns per loop (mean ± std. dev. of 7 runs, 10 loops each)\n"
     ]
    }
   ],
   "source": [
    "%timeit -n 10 a = 2\n",
    "\n",
    "for it in Z3:\n",
    "    it[...] +=1"
   ]
  },
  {
   "cell_type": "markdown",
   "metadata": {},
   "source": [
    "### 2. 如何從一個陣列中，找出出現頻率最高的數值與位置？\n"
   ]
  },
  {
   "cell_type": "code",
   "execution_count": 12,
   "metadata": {
    "colab": {},
    "colab_type": "code",
    "id": "e1gVI0tvsvFY"
   },
   "outputs": [
    {
     "name": "stdout",
     "output_type": "stream",
     "text": [
      "[0 9 8 9 9 0 7 3 2 5 8 6 2 5 6 4 7 0 7 3 4 7 6 2 9 2 3 7 0 3 1 5 8 4 7 3 8\n",
      " 3 1 8 7 0 0 5 1 9 8 3 8 2]\n"
     ]
    }
   ],
   "source": [
    "\n",
    "Z = np.random.randint(0,10,50)\n",
    "print(Z)\n"
   ]
  },
  {
   "cell_type": "code",
   "execution_count": 13,
   "metadata": {},
   "outputs": [
    {
     "name": "stdout",
     "output_type": "stream",
     "text": [
      "最多重複的數字為：8\n",
      "分別出現在：[ 2 10 32 36 39 46 48]\n"
     ]
    }
   ],
   "source": [
    "val_idx = dict()\n",
    "val_cnt = dict()\n",
    "# val_cnt[Z[0]] = np.array([0])\n",
    "for i in range(len(Z)):\n",
    "    if Z[i] in val_idx:\n",
    "        val_idx[Z[i]] = np.append(val_idx[Z[i]], i)\n",
    "        val_cnt[Z[i]] += 1\n",
    "    else:\n",
    "        val_idx[Z[i]] = np.array([i])\n",
    "        val_cnt[Z[i]]  = 1\n",
    "    # val_cnt[Z[i]]\n",
    "\n",
    "\n",
    "max_key = max(val_cnt, key = val_cnt.get)\n",
    "print(f\"最多重複的數字為：{max_key}\")\n",
    "print(f\"分別出現在：{val_idx[max_key]}\")"
   ]
  },
  {
   "cell_type": "markdown",
   "metadata": {},
   "source": [
    "### 3. 如何利用 list(...) 實現 a.tolist() 的效果？試著用程式實作。"
   ]
  },
  {
   "cell_type": "code",
   "execution_count": 14,
   "metadata": {},
   "outputs": [
    {
     "name": "stdout",
     "output_type": "stream",
     "text": [
      "[3, 9, 4, 7, 2, 6]\n",
      "[3, 9, 4, 7, 2, 6]\n"
     ]
    }
   ],
   "source": [
    "a = np.random.randint(10, size=6) \n",
    "\n",
    "print(a.tolist())\n",
    "print(list(a))"
   ]
  },
  {
   "cell_type": "code",
   "execution_count": 76,
   "metadata": {},
   "outputs": [],
   "source": [
    "# 答案\n",
    "def my_tolist2(b):\n",
    "    print(\"[\", end=\"\")\n",
    "    for i in range(len(b)):\n",
    "        if (i < len(b)-1):\n",
    "            print(list(b[i]), end =\", \")\n",
    "        else:\n",
    "            print(list(b[i]), end = \"]\")"
   ]
  },
  {
   "cell_type": "code",
   "execution_count": 77,
   "metadata": {},
   "outputs": [
    {
     "name": "stdout",
     "output_type": "stream",
     "text": [
      "[[7, 2, 7, 6], [2, 8, 2, 2], [7, 7, 7, 7]]\n",
      "[[7, 2, 7, 6], [2, 8, 2, 2], [7, 7, 7, 7]]"
     ]
    }
   ],
   "source": [
    "b = np.random.randint(10, size=(3,4)) \n",
    "print(b.tolist())\n",
    "my_tolist2(b)"
   ]
  },
  {
   "cell_type": "code",
   "execution_count": 87,
   "metadata": {},
   "outputs": [],
   "source": [
    "def my_tolist3(b):\n",
    "    print(\"[\", end=\"\")\n",
    "    for i in range(len(b)):\n",
    "        if (i < len(b)-1):\n",
    "            my_tolist2(b[i])\n",
    "            print(\", \", end=\"\")\n",
    "        else:\n",
    "            my_tolist2(b[i])\n",
    "    print(\"]\")"
   ]
  },
  {
   "cell_type": "code",
   "execution_count": 88,
   "metadata": {},
   "outputs": [
    {
     "name": "stdout",
     "output_type": "stream",
     "text": [
      "[[[8, 7], [7, 4], [5, 2]], [[1, 5], [8, 8], [2, 5]]]\n",
      "[[[8, 7], [7, 4], [5, 2]], [[1, 5], [8, 8], [2, 5]]]\n"
     ]
    }
   ],
   "source": [
    "c = np.random.randint(10, size=(2,3,2)) \n",
    "\n",
    "print(c.tolist())\n",
    "# print(list(c))\n",
    "my_tolist3(c)"
   ]
  },
  {
   "cell_type": "markdown",
   "metadata": {},
   "source": [
    "> 注意：此題應該可以使用遞迴方完整判斷出幾層 array"
   ]
  }
 ],
 "metadata": {
  "colab": {
   "name": "Day_023_HW.ipynb",
   "provenance": []
  },
  "kernelspec": {
   "display_name": "Python 3",
   "language": "python",
   "name": "python3"
  },
  "language_info": {
   "codemirror_mode": {
    "name": "ipython",
    "version": 3
   },
   "file_extension": ".py",
   "mimetype": "text/x-python",
   "name": "python",
   "nbconvert_exporter": "python",
   "pygments_lexer": "ipython3",
   "version": "3.6.5"
  }
 },
 "nbformat": 4,
 "nbformat_minor": 1
}
