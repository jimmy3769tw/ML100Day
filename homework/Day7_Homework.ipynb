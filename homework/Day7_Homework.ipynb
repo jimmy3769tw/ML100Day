{
 "cells": [
  {
   "cell_type": "markdown",
   "metadata": {
    "colab_type": "text",
    "id": "P6xk2_jLsvFF"
   },
   "source": [
    "# [作業目標]\n",
    "\n",
    "1. 請比較對一個 100 x 100 * 100 的陣列，使用不同方法對每一個元素 +1 的時間比較。\n",
    "\n",
    "2. 如何從一個陣列中，找出出現頻率最高的數值與位置？\n",
    "\n",
    "3. 如何利用 list(...) 實現 a.tolist() 的效果？試著用程式實作。\n"
   ]
  },
  {
   "cell_type": "markdown",
   "metadata": {
    "colab_type": "text",
    "id": "uXGll28asvFS"
   },
   "source": [
    "# 作業 "
   ]
  },
  {
   "cell_type": "markdown",
   "metadata": {},
   "source": [
    "### 1. 請比較對一個 1000 x 100 x 100 的陣列，使用不同方法對每一個元素 +1 的時間比較。\n",
    "\n",
    "\n"
   ]
  },
  {
   "cell_type": "code",
   "execution_count": 1,
   "metadata": {},
   "outputs": [],
   "source": [
    "import numpy as np"
   ]
  },
  {
   "cell_type": "code",
   "execution_count": 2,
   "metadata": {
    "colab": {},
    "colab_type": "code",
    "id": "5QrYoyNWsvFS"
   },
   "outputs": [],
   "source": [
    "Z = np.random.randint(0, 10, 1000000).reshape(100, 100, 100)\n",
    "Z1 = Z\n",
    "Z2 = Z\n",
    "Z3 = Z\n",
    "Z4 = Z"
   ]
  },
  {
   "cell_type": "markdown",
   "metadata": {},
   "source": [
    "#### 測試是否成功對每一個元增加"
   ]
  },
  {
   "cell_type": "code",
   "execution_count": 3,
   "metadata": {},
   "outputs": [],
   "source": [
    "\n",
    "t = np.arange(6)\n",
    "for i in range(len(t)):\n",
    "    t[i] += 1"
   ]
  },
  {
   "cell_type": "code",
   "execution_count": 4,
   "metadata": {},
   "outputs": [
    {
     "data": {
      "text/plain": [
       "array([[[ 4,  5],\n",
       "        [ 6,  7]],\n",
       "\n",
       "       [[ 8,  9],\n",
       "        [10, 11]]])"
      ]
     },
     "execution_count": 4,
     "metadata": {},
     "output_type": "execute_result"
    }
   ],
   "source": [
    "t = np.arange(8).reshape(2, 2, 2)\n",
    "t = np.add(t, 1)\n",
    "for i in range(len(t)):\n",
    "    for j in range(len(t[i])):\n",
    "        for k in range(len(t[i][j])):\n",
    "            t[i][j][k] += 1\n",
    "            \n",
    "with np.nditer(t, op_flags=['readwrite']) as it:\n",
    "    for x in it:\n",
    "        x[...] += 1 \n",
    "\n",
    "for it in t:\n",
    "    it[...] +=1\n",
    "\n",
    "t"
   ]
  },
  {
   "cell_type": "markdown",
   "metadata": {},
   "source": [
    "#### 測試效率"
   ]
  },
  {
   "cell_type": "code",
   "execution_count": 5,
   "metadata": {},
   "outputs": [
    {
     "name": "stdout",
     "output_type": "stream",
     "text": [
      "14.3 ns ± 3.05 ns per loop (mean ± std. dev. of 7 runs, 10 loops each)\n"
     ]
    }
   ],
   "source": [
    "%timeit -n 10 a = 2\n",
    "\n",
    "for i in range(len(Z)):\n",
    "    for j in range(len(Z[i])):\n",
    "        for k in range(len(Z[i][j])):\n",
    "            Z[i][j][k] += 1"
   ]
  },
  {
   "cell_type": "code",
   "execution_count": 6,
   "metadata": {},
   "outputs": [
    {
     "name": "stdout",
     "output_type": "stream",
     "text": [
      "17.3 ns ± 8.46 ns per loop (mean ± std. dev. of 7 runs, 10 loops each)\n"
     ]
    }
   ],
   "source": [
    "%timeit -n 10 a = 2\n",
    "\n",
    "Z1 = np.add(Z1, 1)"
   ]
  },
  {
   "cell_type": "code",
   "execution_count": 7,
   "metadata": {},
   "outputs": [
    {
     "name": "stdout",
     "output_type": "stream",
     "text": [
      "19.1 ns ± 8.58 ns per loop (mean ± std. dev. of 7 runs, 10 loops each)\n"
     ]
    }
   ],
   "source": [
    "%timeit -n 10 a = 2\n",
    "            \n",
    "with np.nditer(Z2, op_flags=['readwrite']) as it:\n",
    "    for x in it:\n",
    "        x[...] += 1"
   ]
  },
  {
   "cell_type": "code",
   "execution_count": 8,
   "metadata": {},
   "outputs": [
    {
     "name": "stdout",
     "output_type": "stream",
     "text": [
      "15.5 ns ± 4.83 ns per loop (mean ± std. dev. of 7 runs, 10 loops each)\n"
     ]
    }
   ],
   "source": [
    "%timeit -n 10 a = 2\n",
    "\n",
    "for it in Z3:\n",
    "    it[...] +=1"
   ]
  },
  {
   "cell_type": "markdown",
   "metadata": {},
   "source": [
    "### 2. 如何從一個陣列中，找出出現頻率最高的數值與位置？\n"
   ]
  },
  {
   "cell_type": "code",
   "execution_count": 9,
   "metadata": {
    "colab": {},
    "colab_type": "code",
    "id": "e1gVI0tvsvFY"
   },
   "outputs": [
    {
     "name": "stdout",
     "output_type": "stream",
     "text": [
      "[7 9 7 0 6 4 2 9 3 4 4 4 3 8 5 0 6 4 6 7 2 8 1 9 9 3 1 3 3 3 6 9 8 0 2 6 1\n",
      " 7 8 6 2 6 2 5 2 3 3 0 0 6]\n"
     ]
    }
   ],
   "source": [
    "\n",
    "Z = np.random.randint(0,10,50)\n",
    "print(Z)\n"
   ]
  },
  {
   "cell_type": "code",
   "execution_count": 10,
   "metadata": {},
   "outputs": [
    {
     "name": "stdout",
     "output_type": "stream",
     "text": [
      "最多重複的數字為：6\n",
      "分別出現在：[ 4 16 18 30 35 39 41 49]\n"
     ]
    }
   ],
   "source": [
    "val_idx = dict()\n",
    "val_cnt = dict()\n",
    "# val_cnt[Z[0]] = np.array([0])\n",
    "for i in range(len(Z)):\n",
    "    if Z[i] in val_idx:\n",
    "        val_idx[Z[i]] = np.append(val_idx[Z[i]], i)\n",
    "        val_cnt[Z[i]] += 1\n",
    "    else:\n",
    "        val_idx[Z[i]] = np.array([i])\n",
    "        val_cnt[Z[i]]  = 1\n",
    "    # val_cnt[Z[i]]\n",
    "\n",
    "\n",
    "max_key = max(val_cnt, key = val_cnt.get)\n",
    "print(f\"最多重複的數字為：{max_key}\")\n",
    "print(f\"分別出現在：{val_idx[max_key]}\")"
   ]
  },
  {
   "cell_type": "code",
   "execution_count": 25,
   "metadata": {},
   "outputs": [
    {
     "name": "stdout",
     "output_type": "stream",
     "text": [
      "[3, 6]\n"
     ]
    }
   ],
   "source": [
    "count = np.bincount(Z)    # array([7, 4, 0, 4, 5, 5, 6, 6, 6, 7])\n",
    "max_count = np.max(count)  # 7\n",
    "\n",
    "ans = np.argwhere(count == max_count)  # 找出所有頻率為 max 的位置 (此範例是找頻率為 7 的) \n",
    "ans = ans.flatten().tolist()     # 轉成一維的 list，輸出為 [0, 9]\n",
    "\n",
    "print(ans)"
   ]
  },
  {
   "cell_type": "markdown",
   "metadata": {},
   "source": [
    "### 3. 如何利用 list(...) 實現 a.tolist() 的效果？試著用程式實作。"
   ]
  },
  {
   "cell_type": "code",
   "execution_count": 11,
   "metadata": {},
   "outputs": [
    {
     "name": "stdout",
     "output_type": "stream",
     "text": [
      "[1, 2, 3, 6, 1, 6]\n",
      "[1, 2, 3, 6, 1, 6]\n"
     ]
    }
   ],
   "source": [
    "a = np.random.randint(10, size=6) \n",
    "\n",
    "print(a.tolist())\n",
    "print(list(a))"
   ]
  },
  {
   "cell_type": "code",
   "execution_count": 12,
   "metadata": {},
   "outputs": [],
   "source": [
    "# 答案\n",
    "def my_tolist2(b):\n",
    "    print(\"[\", end=\"\")\n",
    "    for i in range(len(b)):\n",
    "        if (i < len(b)-1):\n",
    "            print(list(b[i]), end =\", \")\n",
    "        else:\n",
    "            print(list(b[i]), end = \"]\")"
   ]
  },
  {
   "cell_type": "code",
   "execution_count": 13,
   "metadata": {},
   "outputs": [
    {
     "name": "stdout",
     "output_type": "stream",
     "text": [
      "[[2, 5, 9, 9], [9, 5, 1, 0], [2, 8, 4, 2]]\n",
      "[[2, 5, 9, 9], [9, 5, 1, 0], [2, 8, 4, 2]]"
     ]
    }
   ],
   "source": [
    "b = np.random.randint(10, size=(3,4)) \n",
    "print(b.tolist())\n",
    "my_tolist2(b)"
   ]
  },
  {
   "cell_type": "code",
   "execution_count": 14,
   "metadata": {},
   "outputs": [],
   "source": [
    "def my_tolist3(b):\n",
    "    print(\"[\", end=\"\")\n",
    "    for i in range(len(b)):\n",
    "        if (i < len(b)-1):\n",
    "            my_tolist2(b[i])\n",
    "            print(\", \", end=\"\")\n",
    "        else:\n",
    "            my_tolist2(b[i])\n",
    "    print(\"]\")"
   ]
  },
  {
   "cell_type": "code",
   "execution_count": 15,
   "metadata": {},
   "outputs": [
    {
     "name": "stdout",
     "output_type": "stream",
     "text": [
      "[[[9, 5], [0, 8], [0, 9]], [[1, 6], [2, 3], [4, 3]]]\n",
      "[[[9, 5], [0, 8], [0, 9]], [[1, 6], [2, 3], [4, 3]]]\n"
     ]
    }
   ],
   "source": [
    "c = np.random.randint(10, size=(2,3,2)) \n",
    "\n",
    "print(c.tolist())\n",
    "# print(list(c))\n",
    "my_tolist3(c)"
   ]
  },
  {
   "cell_type": "markdown",
   "metadata": {},
   "source": [
    "> 注意：此題應該可以使用遞迴方完整判斷出幾層 array"
   ]
  },
  {
   "cell_type": "code",
   "execution_count": 16,
   "metadata": {},
   "outputs": [],
   "source": [
    "def my_tolist(iterable):\n",
    "    if type(iterable) != np.array:\n",
    "        return iterable\n",
    "    return [my_tolist(obj) for obj in iterable]"
   ]
  },
  {
   "cell_type": "code",
   "execution_count": 20,
   "metadata": {},
   "outputs": [
    {
     "name": "stdout",
     "output_type": "stream",
     "text": [
      "[1, 2, 3, 6, 1, 6]\n"
     ]
    }
   ],
   "source": [
    "print(list(my_tolist(a)))"
   ]
  },
  {
   "cell_type": "code",
   "execution_count": 23,
   "metadata": {},
   "outputs": [
    {
     "name": "stdout",
     "output_type": "stream",
     "text": [
      "[[2 5 9 9]\n",
      " [9 5 1 0]\n",
      " [2 8 4 2]]\n"
     ]
    }
   ],
   "source": [
    "print(my_tolist(b))"
   ]
  },
  {
   "cell_type": "code",
   "execution_count": 19,
   "metadata": {},
   "outputs": [
    {
     "name": "stdout",
     "output_type": "stream",
     "text": [
      "[[[9 5]\n",
      "  [0 8]\n",
      "  [0 9]]\n",
      "\n",
      " [[1 6]\n",
      "  [2 3]\n",
      "  [4 3]]]\n"
     ]
    }
   ],
   "source": [
    "print(my_tolist(c))"
   ]
  }
 ],
 "metadata": {
  "colab": {
   "name": "Day_023_HW.ipynb",
   "provenance": []
  },
  "kernelspec": {
   "display_name": "Python 3",
   "language": "python",
   "name": "python3"
  },
  "language_info": {
   "codemirror_mode": {
    "name": "ipython",
    "version": 3
   },
   "file_extension": ".py",
   "mimetype": "text/x-python",
   "name": "python",
   "nbconvert_exporter": "python",
   "pygments_lexer": "ipython3",
   "version": "3.6.5"
  }
 },
 "nbformat": 4,
 "nbformat_minor": 1
}
