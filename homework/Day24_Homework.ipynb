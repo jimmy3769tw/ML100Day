{
 "cells": [
  {
   "cell_type": "markdown",
   "metadata": {
    "colab_type": "text",
    "id": "xp4Wh9IFK_Ps"
   },
   "source": [
    "# 作業: 處理分類數據\n",
    "\n",
    "1.建立簡單的水果資料集\n",
    "fruits = ['Apples', 'Pears', 'Nectarines', 'Plums', 'Grapes', 'Strawberries']\n",
    "counts = [5, 3, 4, 2, 4, 6]\n",
    "\n",
    "2. 利用vbar\n",
    "水果名稱因子列表作為x 坐標，將條形高度作為top坐標，以及可選地width我們想要設置的任何屬性進行調用：\n",
    "\n",
    "p.vbar(x=fruits, top=[5, 3, 4, 2, 4, 6], width=0.9)\n",
    "\n",
    "3. 由於Bokeh會按順序顯示條形，因此在條形圖中“排序”條形與對范圍的因子進行排序相同。\n",
    "\n",
    "sorted_fruits = sorted(fruits, key=lambda x: counts[fruits.index(x)])"
   ]
  },
  {
   "cell_type": "code",
   "execution_count": 1,
   "metadata": {
    "colab": {
     "base_uri": "https://localhost:8080/",
     "height": 417
    },
    "colab_type": "code",
    "id": "FIsyxA8hvYOd",
    "outputId": "01790929-23d8-48eb-90b4-70454b7211d9"
   },
   "outputs": [
    {
     "ename": "RuntimeError",
     "evalue": "bokeh sample data directory does not exist, please execute bokeh.sampledata.download()",
     "output_type": "error",
     "traceback": [
      "\u001b[0;31m---------------------------------------------------------------------------\u001b[0m",
      "\u001b[0;31mRuntimeError\u001b[0m                              Traceback (most recent call last)",
      "Cell \u001b[0;32mIn[1], line 4\u001b[0m\n\u001b[1;32m      2\u001b[0m \u001b[38;5;28;01mfrom\u001b[39;00m \u001b[38;5;21;01mbokeh\u001b[39;00m\u001b[38;5;21;01m.\u001b[39;00m\u001b[38;5;21;01mresources\u001b[39;00m \u001b[38;5;28;01mimport\u001b[39;00m INLINE\n\u001b[1;32m      3\u001b[0m \u001b[38;5;28;01mfrom\u001b[39;00m \u001b[38;5;21;01mbokeh\u001b[39;00m\u001b[38;5;21;01m.\u001b[39;00m\u001b[38;5;21;01mplotting\u001b[39;00m \u001b[38;5;28;01mimport\u001b[39;00m figure, output_file, show, output_notebook\n\u001b[0;32m----> 4\u001b[0m \u001b[38;5;28;01mfrom\u001b[39;00m \u001b[38;5;21;01mbokeh\u001b[39;00m\u001b[38;5;21;01m.\u001b[39;00m\u001b[38;5;21;01msampledata\u001b[39;00m\u001b[38;5;21;01m.\u001b[39;00m\u001b[38;5;21;01mstocks\u001b[39;00m \u001b[38;5;28;01mimport\u001b[39;00m AAPL, GOOG, IBM, MSFT\n\u001b[1;32m      5\u001b[0m \u001b[38;5;28;01mimport\u001b[39;00m \u001b[38;5;21;01mpandas\u001b[39;00m \u001b[38;5;28;01mas\u001b[39;00m \u001b[38;5;21;01mpd\u001b[39;00m\n\u001b[1;32m      7\u001b[0m \u001b[38;5;66;03m# 環境 settings\u001b[39;00m\n",
      "File \u001b[0;32m/opt/homebrew/Caskroom/miniforge/base/envs/py1011/lib/python3.10/site-packages/bokeh/sampledata/stocks.py:112\u001b[0m\n\u001b[1;32m    <a href='file:///opt/homebrew/Caskroom/miniforge/base/envs/py1011/lib/python3.10/site-packages/bokeh/sampledata/stocks.py?line=105'>106</a>\u001b[0m     \u001b[39mreturn\u001b[39;00m data\n\u001b[1;32m    <a href='file:///opt/homebrew/Caskroom/miniforge/base/envs/py1011/lib/python3.10/site-packages/bokeh/sampledata/stocks.py?line=107'>108</a>\u001b[0m \u001b[39m#-----------------------------------------------------------------------------\u001b[39;00m\n\u001b[1;32m    <a href='file:///opt/homebrew/Caskroom/miniforge/base/envs/py1011/lib/python3.10/site-packages/bokeh/sampledata/stocks.py?line=108'>109</a>\u001b[0m \u001b[39m# Code\u001b[39;00m\n\u001b[1;32m    <a href='file:///opt/homebrew/Caskroom/miniforge/base/envs/py1011/lib/python3.10/site-packages/bokeh/sampledata/stocks.py?line=109'>110</a>\u001b[0m \u001b[39m#-----------------------------------------------------------------------------\u001b[39;00m\n\u001b[0;32m--> <a href='file:///opt/homebrew/Caskroom/miniforge/base/envs/py1011/lib/python3.10/site-packages/bokeh/sampledata/stocks.py?line=111'>112</a>\u001b[0m AAPL \u001b[39m=\u001b[39m _read_data(\u001b[39m'\u001b[39;49m\u001b[39mAAPL\u001b[39;49m\u001b[39m'\u001b[39;49m)\n\u001b[1;32m    <a href='file:///opt/homebrew/Caskroom/miniforge/base/envs/py1011/lib/python3.10/site-packages/bokeh/sampledata/stocks.py?line=112'>113</a>\u001b[0m FB   \u001b[39m=\u001b[39m _read_data(\u001b[39m'\u001b[39m\u001b[39mFB\u001b[39m\u001b[39m'\u001b[39m)\n\u001b[1;32m    <a href='file:///opt/homebrew/Caskroom/miniforge/base/envs/py1011/lib/python3.10/site-packages/bokeh/sampledata/stocks.py?line=113'>114</a>\u001b[0m GOOG \u001b[39m=\u001b[39m _read_data(\u001b[39m'\u001b[39m\u001b[39mGOOG\u001b[39m\u001b[39m'\u001b[39m)\n",
      "File \u001b[0;32m/opt/homebrew/Caskroom/miniforge/base/envs/py1011/lib/python3.10/site-packages/bokeh/sampledata/stocks.py:84\u001b[0m, in \u001b[0;36m_read_data\u001b[0;34m(name)\u001b[0m\n\u001b[1;32m     <a href='file:///opt/homebrew/Caskroom/miniforge/base/envs/py1011/lib/python3.10/site-packages/bokeh/sampledata/stocks.py?line=79'>80</a>\u001b[0m \u001b[39mdef\u001b[39;00m \u001b[39m_read_data\u001b[39m(name: \u001b[39mstr\u001b[39m) \u001b[39m-\u001b[39m\u001b[39m>\u001b[39m StockData:\n\u001b[1;32m     <a href='file:///opt/homebrew/Caskroom/miniforge/base/envs/py1011/lib/python3.10/site-packages/bokeh/sampledata/stocks.py?line=80'>81</a>\u001b[0m     \u001b[39m'''\u001b[39;00m\n\u001b[1;32m     <a href='file:///opt/homebrew/Caskroom/miniforge/base/envs/py1011/lib/python3.10/site-packages/bokeh/sampledata/stocks.py?line=81'>82</a>\u001b[0m \n\u001b[1;32m     <a href='file:///opt/homebrew/Caskroom/miniforge/base/envs/py1011/lib/python3.10/site-packages/bokeh/sampledata/stocks.py?line=82'>83</a>\u001b[0m \u001b[39m    '''\u001b[39;00m\n\u001b[0;32m---> <a href='file:///opt/homebrew/Caskroom/miniforge/base/envs/py1011/lib/python3.10/site-packages/bokeh/sampledata/stocks.py?line=83'>84</a>\u001b[0m     filename \u001b[39m=\u001b[39m external_path(name \u001b[39m+\u001b[39;49m \u001b[39m'\u001b[39;49m\u001b[39m.csv\u001b[39;49m\u001b[39m'\u001b[39;49m)\n\u001b[1;32m     <a href='file:///opt/homebrew/Caskroom/miniforge/base/envs/py1011/lib/python3.10/site-packages/bokeh/sampledata/stocks.py?line=84'>85</a>\u001b[0m     data \u001b[39m=\u001b[39m StockData(\n\u001b[1;32m     <a href='file:///opt/homebrew/Caskroom/miniforge/base/envs/py1011/lib/python3.10/site-packages/bokeh/sampledata/stocks.py?line=85'>86</a>\u001b[0m         date \u001b[39m=\u001b[39m [],\n\u001b[1;32m     <a href='file:///opt/homebrew/Caskroom/miniforge/base/envs/py1011/lib/python3.10/site-packages/bokeh/sampledata/stocks.py?line=86'>87</a>\u001b[0m         \u001b[39mopen\u001b[39m \u001b[39m=\u001b[39m [],\n\u001b[0;32m   (...)\u001b[0m\n\u001b[1;32m     <a href='file:///opt/homebrew/Caskroom/miniforge/base/envs/py1011/lib/python3.10/site-packages/bokeh/sampledata/stocks.py?line=91'>92</a>\u001b[0m         adj_close \u001b[39m=\u001b[39m [],\n\u001b[1;32m     <a href='file:///opt/homebrew/Caskroom/miniforge/base/envs/py1011/lib/python3.10/site-packages/bokeh/sampledata/stocks.py?line=92'>93</a>\u001b[0m     )\n\u001b[1;32m     <a href='file:///opt/homebrew/Caskroom/miniforge/base/envs/py1011/lib/python3.10/site-packages/bokeh/sampledata/stocks.py?line=93'>94</a>\u001b[0m     \u001b[39mwith\u001b[39;00m open_csv(filename) \u001b[39mas\u001b[39;00m f:\n",
      "File \u001b[0;32m/opt/homebrew/Caskroom/miniforge/base/envs/py1011/lib/python3.10/site-packages/bokeh/util/sampledata.py:124\u001b[0m, in \u001b[0;36mexternal_path\u001b[0;34m(filename)\u001b[0m\n\u001b[1;32m    <a href='file:///opt/homebrew/Caskroom/miniforge/base/envs/py1011/lib/python3.10/site-packages/bokeh/util/sampledata.py?line=122'>123</a>\u001b[0m \u001b[39mdef\u001b[39;00m \u001b[39mexternal_path\u001b[39m(filename: \u001b[39mstr\u001b[39m \u001b[39m|\u001b[39m Path) \u001b[39m-\u001b[39m\u001b[39m>\u001b[39m Path:\n\u001b[0;32m--> <a href='file:///opt/homebrew/Caskroom/miniforge/base/envs/py1011/lib/python3.10/site-packages/bokeh/util/sampledata.py?line=123'>124</a>\u001b[0m     data_dir \u001b[39m=\u001b[39m external_data_dir()\n\u001b[1;32m    <a href='file:///opt/homebrew/Caskroom/miniforge/base/envs/py1011/lib/python3.10/site-packages/bokeh/util/sampledata.py?line=124'>125</a>\u001b[0m     fn \u001b[39m=\u001b[39m data_dir \u001b[39m/\u001b[39m filename\n\u001b[1;32m    <a href='file:///opt/homebrew/Caskroom/miniforge/base/envs/py1011/lib/python3.10/site-packages/bokeh/util/sampledata.py?line=125'>126</a>\u001b[0m     \u001b[39mif\u001b[39;00m \u001b[39mnot\u001b[39;00m fn\u001b[39m.\u001b[39mexists() \u001b[39mor\u001b[39;00m \u001b[39mnot\u001b[39;00m fn\u001b[39m.\u001b[39mis_file():\n",
      "File \u001b[0;32m/opt/homebrew/Caskroom/miniforge/base/envs/py1011/lib/python3.10/site-packages/bokeh/util/sampledata.py:111\u001b[0m, in \u001b[0;36mexternal_data_dir\u001b[0;34m(create)\u001b[0m\n\u001b[1;32m    <a href='file:///opt/homebrew/Caskroom/miniforge/base/envs/py1011/lib/python3.10/site-packages/bokeh/util/sampledata.py?line=108'>109</a>\u001b[0m \u001b[39mif\u001b[39;00m \u001b[39mnot\u001b[39;00m data_dir\u001b[39m.\u001b[39mexists():\n\u001b[1;32m    <a href='file:///opt/homebrew/Caskroom/miniforge/base/envs/py1011/lib/python3.10/site-packages/bokeh/util/sampledata.py?line=109'>110</a>\u001b[0m     \u001b[39mif\u001b[39;00m \u001b[39mnot\u001b[39;00m create:\n\u001b[0;32m--> <a href='file:///opt/homebrew/Caskroom/miniforge/base/envs/py1011/lib/python3.10/site-packages/bokeh/util/sampledata.py?line=110'>111</a>\u001b[0m         \u001b[39mraise\u001b[39;00m \u001b[39mRuntimeError\u001b[39;00m(\u001b[39m'\u001b[39m\u001b[39mbokeh sample data directory does not exist, please execute bokeh.sampledata.download()\u001b[39m\u001b[39m'\u001b[39m)\n\u001b[1;32m    <a href='file:///opt/homebrew/Caskroom/miniforge/base/envs/py1011/lib/python3.10/site-packages/bokeh/util/sampledata.py?line=111'>112</a>\u001b[0m     \u001b[39mprint\u001b[39m(\u001b[39mf\u001b[39m\u001b[39m\"\u001b[39m\u001b[39mCreating \u001b[39m\u001b[39m{\u001b[39;00mdata_dir\u001b[39m}\u001b[39;00m\u001b[39m directory\u001b[39m\u001b[39m\"\u001b[39m)\n\u001b[1;32m    <a href='file:///opt/homebrew/Caskroom/miniforge/base/envs/py1011/lib/python3.10/site-packages/bokeh/util/sampledata.py?line=112'>113</a>\u001b[0m     \u001b[39mtry\u001b[39;00m:\n",
      "\u001b[0;31mRuntimeError\u001b[0m: bokeh sample data directory does not exist, please execute bokeh.sampledata.download()"
     ]
    }
   ],
   "source": [
    "import bokeh.io\n",
    "from bokeh.resources import INLINE\n",
    "from bokeh.plotting import figure, output_file, show, output_notebook\n",
    "from bokeh.sampledata.stocks import AAPL, GOOG, IBM, MSFT\n",
    "import pandas as pd\n",
    "\n",
    "# 環境 settings\n",
    "bokeh.io.reset_output()\n",
    "bokeh.io.output_notebook(INLINE)\n",
    "\n"
   ]
  },
  {
   "cell_type": "code",
   "execution_count": 4,
   "metadata": {
    "colab": {
     "base_uri": "https://localhost:8080/",
     "height": 267
    },
    "colab_type": "code",
    "id": "ejwc4XFJt4V4",
    "outputId": "0a00d34c-98e7-4bd7-8b12-8074995866e2"
   },
   "outputs": [
    {
     "data": {
      "text/plain": [
       "'\\n#指定輸出檔名\\noutput_file(\"???.html\")\\n\\n#給定資料\\nfruits = ?\\ncounts = ?\\n\\np = figure(x_range=fruits, title=\"Fruit Counts\",\\n           toolbar_location=None, tools=\"\")\\n\\np.vbar\\n\\n#Y座標從0開始\\np.y_range.start = 0\\n\\nshow(p)\\n'"
      ]
     },
     "execution_count": 4,
     "metadata": {},
     "output_type": "execute_result"
    }
   ],
   "source": [
    "'''\n",
    "#指定輸出檔名\n",
    "output_file(\"???.html\")\n",
    "\n",
    "#給定資料\n",
    "fruits = ?\n",
    "counts = ?\n",
    "\n",
    "# 不增設按鈕 toolbar_location=None, tools=\"\"\n",
    "# plot_height 設定條形高度\n",
    "#配置圖表\n",
    "p = figure(x_range=fruits, title=\"Fruit Counts\",\n",
    "           toolbar_location=None, tools=\"\")\n",
    "\n",
    "p.vbar\n",
    "\n",
    "#Y座標從0開始\n",
    "p.y_range.start = 0\n",
    "\n",
    "show(p)\n",
    "'''"
   ]
  },
  {
   "cell_type": "code",
   "execution_count": null,
   "metadata": {},
   "outputs": [],
   "source": [
    "'''\n",
    "#指定輸出檔名\n",
    "output_file(\"???.html\")\n",
    "\n",
    "#給定資料\n",
    "fruits = ?\n",
    "counts = ?\n",
    "#資料做排序\n",
    "sorted_fruits\n",
    "\n",
    "# 不增設按鈕 toolbar_location=None, tools=\"\"\n",
    "# plot_height 設定條形高度\n",
    "# 配置圖表\n",
    "p = figure(x_range=fruits, title=\"Fruit Counts\",\n",
    "           toolbar_location=None, tools=\"\")\n",
    "\n",
    "p.vbar\n",
    "\n",
    "#Y座標從0開始\n",
    "p.y_range.start = 0\n",
    "\n",
    "show(p)\n",
    "'''"
   ]
  }
 ],
 "metadata": {
  "colab": {
   "name": "Data Visualization_Day-6_作業.ipynb",
   "provenance": []
  },
  "interpreter": {
   "hash": "5796666c56bdc9c175bdc71a94089ea768d5d73542fc941e33b4fd6972fec84b"
  },
  "kernelspec": {
   "display_name": "Python 3.10.11",
   "language": "python",
   "name": "python3"
  },
  "language_info": {
   "codemirror_mode": {
    "name": "ipython",
    "version": 3
   },
   "file_extension": ".py",
   "mimetype": "text/x-python",
   "name": "python",
   "nbconvert_exporter": "python",
   "pygments_lexer": "ipython3",
   "version": "3.10.11"
  }
 },
 "nbformat": 4,
 "nbformat_minor": 1
}
