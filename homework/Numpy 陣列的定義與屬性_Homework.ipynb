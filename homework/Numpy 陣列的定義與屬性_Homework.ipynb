{
 "cells": [
  {
   "cell_type": "markdown",
   "metadata": {
    "id": "P6xk2_jLsvFF"
   },
   "source": [
    "# [作業目標]\n",
    "\n",
    "1. [簡答題] 請問下列兩種將 Array 轉換成 List 的方式有何不同？\n",
    "\n",
    "```\n",
    "print('list(a): ', list(a))\n",
    "print('tolist(): ', a.tolist())\n",
    "```\n",
    "\n",
    "2. 請試著在程式中印出以下三個 NdArray 的屬性？（屬性：ndim、shape、size、dtype、itemsize、length、type）\n",
    "\n",
    "```\n",
    "a = np.random.randint(10, size=6) \n",
    "b = np.random.randint(10, size=(3,4)) \n",
    "c = np.random.randint(10, size=(2,3,2)) \n",
    "```\n",
    "\n",
    "3. 如何利用 list(...) 實現 a.tolist() 的效果？試著用程式實作。\n"
   ]
  },
  {
   "cell_type": "markdown",
   "metadata": {
    "id": "uXGll28asvFS"
   },
   "source": [
    "# 作業 "
   ]
  },
  {
   "cell_type": "markdown",
   "metadata": {
    "id": "SYkvkp9YLwB7"
   },
   "source": [
    "### 1. [簡答題] 請問下列兩種將 Array 轉換成 List 的方式有何不同？\n",
    "\n",
    "```\n",
    "print('list(a): ', list(a))\n",
    "print('tolist(): ', a.tolist())\n",
    "```\n"
   ]
  },
  {
   "cell_type": "code",
   "execution_count": 1,
   "metadata": {
    "id": "5QrYoyNWsvFS",
    "outputId": "13f374d0-6f1b-47aa-bbac-c7d1a8c6995c"
   },
   "outputs": [
    {
     "name": "stdout",
     "output_type": "stream",
     "text": [
      "list(a): [array([0, 1, 2, 3, 4]), array([5, 6, 7, 8, 9]), array([10, 11, 12, 13, 14])]\n",
      "tolist(a): [[0, 1, 2, 3, 4], [5, 6, 7, 8, 9], [10, 11, 12, 13, 14]]\n"
     ]
    }
   ],
   "source": [
    "import numpy as np\n",
    "\n",
    "a = np.arange(15).reshape(3, 5)  # #row and #column, represent 3 and 5, re.,..\n",
    "print('list(a):', list(a))       # 只有第一層的被展開 (rows) \n",
    "print('tolist(a):', a.tolist())  # 使用np 中的 物件展開\n",
    "# 答案顯現方式不同"
   ]
  },
  {
   "cell_type": "markdown",
   "metadata": {
    "id": "AC9wUCyALwB9"
   },
   "source": [
    "### 2. 請試著在程式中印出以下三個 NdArray 的屬性並且解釋結果？（屬性：ndim、shape、size、dtype、itemsize、length、type）\n",
    "\n",
    "```\n",
    "a = np.random.randint(10, size=6) \n",
    "b = np.random.randint(10, size=(3,4)) \n",
    "c = np.random.randint(10, size=(2,3,2)) \n",
    "```"
   ]
  },
  {
   "cell_type": "code",
   "execution_count": 2,
   "metadata": {
    "id": "4qARRsdtLwB-"
   },
   "outputs": [
    {
     "name": "stdout",
     "output_type": "stream",
     "text": [
      "[3 3 4 4 7 4]\n",
      "1\n",
      "(6,)\n",
      "6\n",
      "int64\n",
      "8\n",
      "6\n",
      "<class 'numpy.ndarray'>\n"
     ]
    }
   ],
   "source": [
    "# 記得先 Import 正確的套件\n",
    "\n",
    "a = np.random.randint(10, size=6)\n",
    "\n",
    "\n",
    "print(a) \n",
    "print(a.ndim) \n",
    "print(a.shape)\n",
    "print(a.size)\n",
    "print(a.dtype) \n",
    "print(a.itemsize) \n",
    "print(len(a)) \n",
    "print(type(a))"
   ]
  },
  {
   "cell_type": "code",
   "execution_count": 3,
   "metadata": {
    "id": "iIJrIr7kLwB_",
    "outputId": "083c5519-394c-404e-9764-100c4ed5118a"
   },
   "outputs": [
    {
     "name": "stdout",
     "output_type": "stream",
     "text": [
      "[[8 5 4 0]\n",
      " [7 7 6 0]\n",
      " [3 7 9 6]]\n",
      "2\n",
      "(3, 4)\n",
      "12\n",
      "int64\n",
      "8\n",
      "3\n",
      "<class 'numpy.ndarray'>\n"
     ]
    }
   ],
   "source": [
    "b = np.random.randint(10, size=(3,4)) \n",
    "\n",
    "print(b)          \n",
    "print(b.ndim)     # ndim\n",
    "print(b.shape)    # the dimentional size\n",
    "print(b.size)     # the size of data\n",
    "print(b.dtype)    # data_type  int64\n",
    "print(b.itemsize) # item size, int64花8位元\n",
    "print(len(b))      #第一層陣列\n",
    "print(type(b))    #物件類型"
   ]
  },
  {
   "cell_type": "code",
   "execution_count": 4,
   "metadata": {
    "id": "98SRFh_FLwCC",
    "outputId": "dc65dfac-9ae6-49d2-f854-88eccebc2aac"
   },
   "outputs": [
    {
     "name": "stdout",
     "output_type": "stream",
     "text": [
      "[[[9 3]\n",
      "  [8 0]\n",
      "  [5 5]]\n",
      "\n",
      " [[7 0]\n",
      "  [9 8]\n",
      "  [4 2]]]\n",
      "3\n",
      "(2, 3, 2)\n",
      "12\n",
      "int64\n",
      "8\n",
      "2\n",
      "<class 'numpy.ndarray'>\n"
     ]
    }
   ],
   "source": [
    "c = np.random.randint(10, size=(2,3,2)) \n",
    "\n",
    "print(c) \n",
    "print(c.ndim) \n",
    "print(c.shape) \n",
    "print(c.size) \n",
    "print(c.dtype) \n",
    "print(c.itemsize) \n",
    "print(len(c))  \n",
    "print(type(c)) "
   ]
  },
  {
   "cell_type": "markdown",
   "metadata": {
    "id": "Uf6zC0QZLwCE"
   },
   "source": [
    "### 3. 如何利用 list(...) 實現 a.tolist() 的效果？試著用程式實作。\n"
   ]
  },
  {
   "cell_type": "code",
   "execution_count": 5,
   "metadata": {
    "id": "sCUzHu_BLwCF",
    "outputId": "ba9c8945-8efb-42b1-f978-2bbdda97accd"
   },
   "outputs": [
    {
     "name": "stdout",
     "output_type": "stream",
     "text": [
      "[1, 5, 5, 7, 2, 2]\n",
      "[1, 5, 5, 7, 2, 2]\n"
     ]
    }
   ],
   "source": [
    "a = np.random.randint(10, size=6) \n",
    "print(a.tolist())\n",
    "print(list(a))"
   ]
  },
  {
   "cell_type": "code",
   "execution_count": 6,
   "metadata": {
    "id": "IUkVtw8RLwCG",
    "outputId": "e39875a5-5ec7-431b-c12a-485acc167e44"
   },
   "outputs": [
    {
     "name": "stdout",
     "output_type": "stream",
     "text": [
      "[[8, 1, 7, 5], [2, 3, 3, 3], [8, 4, 7, 8]]\n",
      "[[8, 1, 7, 5], [2, 3, 3, 3], [8, 4, 7, 8]]\n"
     ]
    }
   ],
   "source": [
    "b = np.random.randint(10, size=(3,4)) \n",
    "\n",
    "print(b.tolist())\n",
    "\n",
    "print([ list(b[x]) for x in range(len(b)) ])"
   ]
  },
  {
   "cell_type": "code",
   "execution_count": 7,
   "metadata": {
    "id": "NPhF8_CqLwCG",
    "outputId": "51fab908-5bfd-415f-9584-92bb376648c8"
   },
   "outputs": [
    {
     "name": "stdout",
     "output_type": "stream",
     "text": [
      "[[[3, 3, 4], [0, 3, 4], [2, 5, 4]], [[5, 4, 1], [3, 9, 4], [0, 6, 8]], [[0, 5, 7], [5, 4, 0], [5, 9, 0]]]\n",
      "[[[3, 3, 4], [5, 4, 1], [0, 5, 7]], [[0, 3, 4], [3, 9, 4], [5, 4, 0]], [[2, 5, 4], [0, 6, 8], [5, 9, 0]]]\n"
     ]
    }
   ],
   "source": [
    "c = np.random.randint(10, size=(3,3,3)) \n",
    "\n",
    "print(c.tolist())\n",
    "\n",
    "print([[ list(c[x][y]) for x in range(len(c[y]))] for y in range(len(c)) ])"
   ]
  },
  {
   "cell_type": "code",
   "execution_count": 8,
   "metadata": {
    "id": "3Hc8vQYtLwCH",
    "outputId": "1290bc93-84ca-4da4-eb1a-315da37afaff"
   },
   "outputs": [
    {
     "name": "stdout",
     "output_type": "stream",
     "text": [
      "[1, 5, 5, 7, 2, 2]\n",
      "[[8, 1, 7, 5], [2, 3, 3, 3], [8, 4, 7, 8]]\n",
      "[[[3, 3, 4], [0, 3, 4], [2, 5, 4]], [[5, 4, 1], [3, 9, 4], [0, 6, 8]], [[0, 5, 7], [5, 4, 0], [5, 9, 0]]]\n"
     ]
    }
   ],
   "source": [
    "def tolist(inA):\n",
    "    # the boundaies of one dimential array for recursive\n",
    "    if type(inA) != np.ndarray:\n",
    "        return inA\n",
    "\n",
    "    newVec = []\n",
    "\n",
    "    for x in inA:\n",
    "        newVec.append(tolist(x))\n",
    "\n",
    "    return list(newVec)\n",
    "\n",
    "print(tolist(a))\n",
    "print(tolist(b))\n",
    "print(tolist(c))"
   ]
  },
  {
   "cell_type": "code",
   "execution_count": 9,
   "metadata": {
    "id": "2lDVOwFpLwCJ",
    "outputId": "ddfa84e4-3d32-4a68-c250-f57b2f66d830"
   },
   "outputs": [
    {
     "name": "stdout",
     "output_type": "stream",
     "text": [
      "[1, 5, 5, 7, 2, 2]\n",
      "[[8, 1, 7, 5], [2, 3, 3, 3], [8, 4, 7, 8]]\n",
      "[[[3, 3, 4], [0, 3, 4], [2, 5, 4]], [[5, 4, 1], [3, 9, 4], [0, 6, 8]], [[0, 5, 7], [5, 4, 0], [5, 9, 0]]]\n"
     ]
    }
   ],
   "source": [
    "# Alternative\n",
    "def tolist(inA):\n",
    "    # the boundaies of one dimential array for recursive\n",
    "    if type (inA) != np.ndarray:\n",
    "        return inA\n",
    "    return [tolist(x) for x in inA]\n",
    "\n",
    "print(tolist(a))\n",
    "print(tolist(b))\n",
    "print(tolist(c))"
   ]
  }
 ],
 "metadata": {
  "colab": {
   "name": "01Homework_維元.ipynb",
   "provenance": []
  },
  "kernelspec": {
   "display_name": "Python 3 (ipykernel)",
   "language": "python",
   "name": "python3"
  },
  "language_info": {
   "codemirror_mode": {
    "name": "ipython",
    "version": 3
   },
   "file_extension": ".py",
   "mimetype": "text/x-python",
   "name": "python",
   "nbconvert_exporter": "python",
   "pygments_lexer": "ipython3",
   "version": "3.9.7"
  }
 },
 "nbformat": 4,
 "nbformat_minor": 1
}
