{
 "cells": [
  {
   "cell_type": "markdown",
   "metadata": {},
   "source": [
    "# 範例\n",
    "***"
   ]
  },
  {
   "cell_type": "markdown",
   "metadata": {},
   "source": [
    "# [教學目標]\n",
    "\n",
    "* 知道如何從 NumPy 陣列存取元素\n",
    "* 了解一維與多維陣列的迴圈用法\n",
    "* 初步理解陣列與其迭代物件\n",
    "\n"
   ]
  },
  {
   "cell_type": "code",
   "execution_count": 1,
   "metadata": {},
   "outputs": [
    {
     "name": "stdout",
     "output_type": "stream",
     "text": [
      "<module 'numpy' from '/Users/wei/.virtualenvs/py3/lib/python3.6/site-packages/numpy/__init__.py'>\n",
      "1.16.1\n"
     ]
    }
   ],
   "source": [
    "# 載入 NumPy 套件\n",
    "import numpy as np\n",
    "\n",
    "# 檢查正確載入與版本\n",
    "print(np)\n",
    "print(np.__version__)"
   ]
  },
  {
   "cell_type": "code",
   "execution_count": 2,
   "metadata": {},
   "outputs": [
    {
     "name": "stdout",
     "output_type": "stream",
     "text": [
      "[0, 1, 8]\n",
      "8\n",
      "0\n",
      "[1, 8]\n"
     ]
    }
   ],
   "source": [
    "# 從陣列中存取元素\n",
    "\n",
    "\n",
    "\n",
    "L = [0, 1, 8]\n",
    "\n",
    "print(L)\n",
    "print(L[-1]) # 8\n",
    "print(L[0]) # 0\n",
    "print(L[1:3]) # [1, 8]\n"
   ]
  },
  {
   "cell_type": "code",
   "execution_count": 3,
   "metadata": {},
   "outputs": [
    {
     "name": "stdout",
     "output_type": "stream",
     "text": [
      "[0 1 8]\n",
      "8\n",
      "0\n",
      "[1 8]\n"
     ]
    }
   ],
   "source": [
    "import numpy as np \n",
    "\n",
    "a = np.arange(3) ** 3\n",
    "\n",
    "print(a)\n",
    "print(a[-1]) # 8\n",
    "print(a[0]) # 0\n",
    "print(a[1:3]) # [1 8]\n"
   ]
  },
  {
   "cell_type": "code",
   "execution_count": 4,
   "metadata": {},
   "outputs": [
    {
     "name": "stdout",
     "output_type": "stream",
     "text": [
      "1\n",
      "2\n",
      "[1 2]\n",
      "[2 3]\n",
      "[2 3]\n"
     ]
    }
   ],
   "source": [
    "# 一維陣列的切片與索引\n",
    "\n",
    "import numpy as np \n",
    "\n",
    "data = np.array([1, 2, 3])\n",
    "\n",
    "print(data[0]) # 取出第 0 個\n",
    "print(data[1]) # 取出第 1 個\n",
    "print(data[0:2]) # 第 0 - 1 個\n",
    "print(data[1:]) # 第 1 到最後一個\n",
    "print(data[-2:]) # 倒數第二到最後一個\n"
   ]
  },
  {
   "cell_type": "code",
   "execution_count": 5,
   "metadata": {},
   "outputs": [
    {
     "name": "stdout",
     "output_type": "stream",
     "text": [
      "0\n",
      "1\n",
      "8\n"
     ]
    }
   ],
   "source": [
    "# 一維陣列的的迭代\n",
    "\n",
    "import numpy as np \n",
    "\n",
    "a = np.arange(3) ** 3\n",
    "\n",
    "for i in a:\n",
    "    print(i)\n",
    "# 0\n",
    "# 1 \n",
    "# 8\n"
   ]
  },
  {
   "cell_type": "code",
   "execution_count": 6,
   "metadata": {},
   "outputs": [
    {
     "name": "stdout",
     "output_type": "stream",
     "text": [
      "[0 1]\n",
      "[2 3]\n",
      "[4 5]\n"
     ]
    }
   ],
   "source": [
    "# 多維陣列的多層迴圈\n",
    "\n",
    "import numpy as np \n",
    "\n",
    "a = np.arange(6).reshape(3, 2)\n",
    "\n",
    "for row in a:\n",
    "    print(row)\n",
    "# [0 1]\n",
    "# [2 3]\n",
    "# [4 5]\n"
   ]
  },
  {
   "cell_type": "code",
   "execution_count": 7,
   "metadata": {},
   "outputs": [
    {
     "name": "stdout",
     "output_type": "stream",
     "text": [
      "0\n",
      "1\n",
      "2\n",
      "3\n",
      "4\n",
      "5\n"
     ]
    }
   ],
   "source": [
    "for row in a:\n",
    "    for d in row:\n",
    "        print(d)\n",
    "# 0\n",
    "# 1\n",
    "# 2\n",
    "# 3\n",
    "# 4\n",
    "# 5\n"
   ]
  },
  {
   "cell_type": "code",
   "execution_count": 8,
   "metadata": {},
   "outputs": [
    {
     "name": "stdout",
     "output_type": "stream",
     "text": [
      "0\n",
      "1\n",
      "2\n",
      "3\n",
      "4\n",
      "5\n"
     ]
    }
   ],
   "source": [
    "# 攤平後再迭代多維陣列\n",
    "\n",
    "import numpy as np \n",
    "\n",
    "a = np.arange(6).reshape(3, 2)\n",
    "\n",
    "for d in a.flat:\n",
    "    print(d)\n"
   ]
  },
  {
   "cell_type": "code",
   "execution_count": 9,
   "metadata": {},
   "outputs": [
    {
     "name": "stdout",
     "output_type": "stream",
     "text": [
      "0\n",
      "1\n",
      "2\n",
      "3\n",
      "4\n",
      "5\n"
     ]
    }
   ],
   "source": [
    "# np.nditer 迭代物件\n",
    "\n",
    "import numpy as np \n",
    "\n",
    "a = np.arange(6).reshape(3, 2)\n",
    "\n",
    "for d in np.nditer(a):\n",
    "    print(d)\n"
   ]
  },
  {
   "cell_type": "code",
   "execution_count": 10,
   "metadata": {},
   "outputs": [
    {
     "name": "stdout",
     "output_type": "stream",
     "text": [
      "0\n",
      "1\n",
      "2\n",
      "3\n",
      "4\n",
      "5\n"
     ]
    }
   ],
   "source": [
    "# 迭代物件的儲存方向\n",
    "\n",
    "a = np.arange(6).reshape(3, 2)\n",
    "\n",
    "for d in np.nditer(a, order='C'):\n",
    "    print(d)\n",
    "\n",
    "    "
   ]
  },
  {
   "cell_type": "code",
   "execution_count": 11,
   "metadata": {},
   "outputs": [
    {
     "name": "stdout",
     "output_type": "stream",
     "text": [
      "0\n",
      "2\n",
      "4\n",
      "1\n",
      "3\n",
      "5\n"
     ]
    }
   ],
   "source": [
    "import numpy as np \n",
    "\n",
    "a = np.arange(6).reshape(3, 2)\n",
    "\n",
    "for d in np.nditer(a, order='F'):\n",
    "    print(d)\n"
   ]
  },
  {
   "cell_type": "code",
   "execution_count": null,
   "metadata": {},
   "outputs": [],
   "source": []
  },
  {
   "cell_type": "code",
   "execution_count": null,
   "metadata": {},
   "outputs": [],
   "source": []
  }
 ],
 "metadata": {
  "kernelspec": {
   "display_name": "Python 3",
   "language": "python",
   "name": "python3"
  },
  "language_info": {
   "codemirror_mode": {
    "name": "ipython",
    "version": 3
   },
   "file_extension": ".py",
   "mimetype": "text/x-python",
   "name": "python",
   "nbconvert_exporter": "python",
   "pygments_lexer": "ipython3",
   "version": "3.6.5"
  }
 },
 "nbformat": 4,
 "nbformat_minor": 2
}
